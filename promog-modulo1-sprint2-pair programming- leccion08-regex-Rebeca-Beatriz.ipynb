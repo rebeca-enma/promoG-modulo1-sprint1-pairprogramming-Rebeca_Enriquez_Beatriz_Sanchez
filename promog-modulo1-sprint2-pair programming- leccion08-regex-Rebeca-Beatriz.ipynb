{
 "cells": [
  {
   "cell_type": "markdown",
   "metadata": {},
   "source": [
    "PAIR PROGRAMMING Expresiones Regulares"
   ]
  },
  {
   "cell_type": "markdown",
   "metadata": {},
   "source": [
    "1. Validar un número de teléfono.\n",
    "Descripción: Verificar si una cadena representa un número de teléfono válido en el formato (XXX) XXX-XXXX.\n",
    "Probad para cada uno de los teléfonos que tenemos en la siguiente lista:\n",
    "telefonos = [\"(123) 456-7890\", \"178 1890-733\", \"(555) 238-1987\", \"(123) 4560-7890\", \"(ABC) 098-1111\"]\n"
   ]
  },
  {
   "cell_type": "markdown",
   "metadata": {},
   "source": [
    "2. Buscar todas las direcciones de correo electrónico en un texto.\n",
    "Descripción: Encontrar todas las direcciones de correo electrónico presentes en una cadena de texto.\n",
    "Probad con el siguiente string:\n",
    "texto = \"Mi correo es user@example.com. Contacta conmigo en john.doe@email.com\"\n"
   ]
  },
  {
   "cell_type": "markdown",
   "metadata": {},
   "source": [
    "3. Validar un código postal.\n",
    "Descripción: Verificar si una cadena representa un código postal válido de 5 dígitos.\n",
    "Probad para cada uno de los códigos postales que tenemos en la siguiente lista:\n",
    "codigos_postales = [\"12345\", \"190037\", \"78409\", \"986449\", \"19305\"]"
   ]
  },
  {
   "cell_type": "markdown",
   "metadata": {},
   "source": [
    "4. Encontrar todas las palabras que comienzan con una vocal en un texto.\n",
    "Descripción: Encontrar todas las palabras en un texto que comienzan con una vocal (a, e, i, o, u).\n",
    "Probad con el siguiente string:\n",
    "texto = \"El perro está ladrando. Ana tiene una manzana. La casa es grande.\"\n"
   ]
  },
  {
   "cell_type": "markdown",
   "metadata": {},
   "source": [
    "5. Extraer todos los hashtags de un texto.\n",
    "Descripción: Extraer todos los hashtags (#) presentes en una cadena de texto.\n",
    "Probad con el siguiente string:\n",
    "texto = \"Me encanta el #deporte. #FelizViernes a todos. Estoy en la conferencia #Tech2022.\""
   ]
  },
  {
   "cell_type": "markdown",
   "metadata": {},
   "source": [
    "6. Buscar todos los números decimales en una cadena de texto.\n",
    "Descripción: Encontrar todos los números decimales presentes en una cadena de texto.\n",
    "Probad con el siguiente string:\n",
    "texto = \"El precio es $19.99. La temperatura es 25.5°C. El índice de inflación es del 2.5%.\"     \n"
   ]
  },
  {
   "cell_type": "markdown",
   "metadata": {},
   "source": [
    "7. Validar un nombre de usuario.\n",
    "Descripción: Verificar si una cadena representa un nombre de usuario válido, que contiene solo letras minúsculas, números y guiones bajos (_).\n",
    "Probad con la siguiente lista de usuarios:\n",
    "lista_usuarios = [\"juan_doe123\", \"lola_12\", \"Aurora_23\", \"12marta_lopez\"]"
   ]
  },
  {
   "cell_type": "markdown",
   "metadata": {},
   "source": [
    "8. Encontrar todas las fechas en formato \"dd/mm/aaaa\" en un texto.\n",
    "Descripción: Encontrar todas las fechas válidas en formato \"dd/mm/aaaa\" presentes en una cadena de texto.\n",
    "Probad con el siguiente string:\n",
    "texto = \"La fecha límite es el 31/12/2022. Hoy es 01/01/2023. Cumpleaños: 15/05/1990.\"\n"
   ]
  },
  {
   "cell_type": "markdown",
   "metadata": {},
   "source": [
    "9. Remover caracteres especiales.\n",
    "Descripción: Dada una cadena de texto, remover cualquier carácter especial, como signos de puntuación y símbolos.\n",
    "Probad con el siguiente string:\n",
    "texto = '¡Hola, cómo estás? ¿Todo bien?'\n"
   ]
  },
  {
   "cell_type": "markdown",
   "metadata": {},
   "source": [
    "10. BONUS: Enmascarar información personal.\n",
    "Descripción: Dada una cadena de texto que contiene información personal, como nombres y direcciones, enmascarar esta información reemplazándola con asteriscos (*).\n",
    "Probad con este string:\n",
    "texto = 'El nombre del cliente es John Doe y su dirección es 123 Main Street.'"
   ]
  }
 ],
 "metadata": {
  "language_info": {
   "name": "python"
  }
 },
 "nbformat": 4,
 "nbformat_minor": 2
}
