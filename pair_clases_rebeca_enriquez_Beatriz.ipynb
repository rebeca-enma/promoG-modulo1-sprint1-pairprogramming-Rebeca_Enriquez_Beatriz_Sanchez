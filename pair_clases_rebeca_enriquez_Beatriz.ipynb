{
 "cells": [
  {
   "cell_type": "markdown",
   "metadata": {},
   "source": [
    "# Clases\n"
   ]
  },
  {
   "cell_type": "code",
   "execution_count": null,
   "metadata": {},
   "outputs": [],
   "source": [
    "from datetime import datetime"
   ]
  },
  {
   "cell_type": "code",
   "execution_count": null,
   "metadata": {},
   "outputs": [],
   "source": [
    "class Empleados:\n",
    "\n",
    "    def __init__(self, nombre, apellidos, edad, posicion, año, vacaciones, herramientas):\n",
    "\n",
    "        self.nombre = nombre\n",
    "        self.apellidos = apellidos\n",
    "        self.edad = edad\n",
    "        self.posicion = posicion\n",
    "        self.año = año\n",
    "        self.vacaciones = vacaciones\n",
    "        self.herramientas = herramientas\n",
    "\n",
    "    \n",
    "    def descripcion(self):\n",
    "\n",
    "        return f\"El empleado con nombre {self.nombre}, que ocupa la posicion {self.posicion}, desde el año {self.año}, tiene pendientes de disfrutar {self.vacaciones} dias de vacaciones\"\n",
    "\n",
    "\n",
    "    def cambiando_posicion(self):\n",
    "\n",
    "        for h in self.herramientas:\n",
    "            if h == \"python\":\n",
    "                return \"Enhorabuena estas actualizado\"\n",
    "            else:\n",
    "                return \"Tenemos formacion a tu disposicion para actualizarte\"\n",
    "\n",
    "    def calcular_antiguedad(self,mes):\n",
    "            año_actual = datetime.now().year\n",
    "            mes_actual = datetime.now().month\n",
    "        \n",
    "            antiguedad_año = año_actual-self.año\n",
    "            antiguedad_mes = mes_actual-mes  #revisar negativos\n",
    "        \n",
    "            return f\"El trabajador entro en el año {self.año} y actualmente tiene una antiguedad de {antiguedad_año} años y {antiguedad_mes} meses\"\n",
    "\n",
    "    def solicitar_aumento_vacaciones(self,dias_solicitados):\n",
    "    \n",
    "            if self.vacaciones > 0:\n",
    "                self.vacaciones += dias_solicitados\n",
    "                return f\"La solicitud ha sido aprobada, actualmente dispones de {self.vacaciones} dias de vacaciones\"\n",
    "\n",
    "            else:\n",
    "                return \"La solicitud no ha sido aprobada, porque lo dias de los que disponias estaban en negativo\"\n",
    "    \n",
    "    def registrar_herramienta(self,nueva_herramienta):\n",
    "    \n",
    "           for h in self.herramientas:\n",
    "                if h.lower() == nueva_herramienta.lower:\n",
    "                    return \"La herramienta ya estaba registrada en tus habilidades\"\n",
    "                else:\n",
    "                    self.herramientas.append(h)\n",
    "                    return f\"{h} ha sido agregada a tu lista de habilidades\"\n",
    "                \n",
    "\n",
    "\n",
    "                \n",
    "    "
   ]
  }
 ],
 "metadata": {
  "kernelspec": {
   "display_name": "Python 3",
   "language": "python",
   "name": "python3"
  },
  "language_info": {
   "codemirror_mode": {
    "name": "ipython",
    "version": 3
   },
   "file_extension": ".py",
   "mimetype": "text/x-python",
   "name": "python",
   "nbconvert_exporter": "python",
   "pygments_lexer": "ipython3",
   "version": "3.12.1"
  }
 },
 "nbformat": 4,
 "nbformat_minor": 2
}
