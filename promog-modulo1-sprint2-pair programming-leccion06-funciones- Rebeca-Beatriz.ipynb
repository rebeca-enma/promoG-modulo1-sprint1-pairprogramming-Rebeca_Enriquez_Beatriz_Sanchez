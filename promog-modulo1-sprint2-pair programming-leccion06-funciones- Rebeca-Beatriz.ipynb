{
 "cells": [
  {
   "cell_type": "markdown",
   "metadata": {},
   "source": [
    "# PAIR PROGRAMMING - Funciones"
   ]
  },
  {
   "cell_type": "markdown",
   "metadata": {},
   "source": [
    "1. Calcular el área de un círculo.\n",
    "Descripción: Crea una función llamada calcular_area_circulo que tome el radio como parámetro y devuelva el área del círculo.\n",
    "NOTA: Os dejamos aquí un link para recordar comose calculaba el área de un círculo."
   ]
  },
  {
   "cell_type": "code",
   "execution_count": 6,
   "metadata": {},
   "outputs": [
    {
     "name": "stdout",
     "output_type": "stream",
     "text": [
      "78.28975\n"
     ]
    }
   ],
   "source": [
    "def calcular_area_circulo(radio):\n",
    "        area = 3.13159 * radio**2\n",
    "        return area\n",
    "print(calcular_area_circulo(5))"
   ]
  },
  {
   "cell_type": "markdown",
   "metadata": {},
   "source": [
    "2. Contar la cantidad de caracteres en una cadena.\n",
    "Descripción: Crea una función llamada contar_caracteres que tome una cadena como parámetro y devuelva la cantidad de caracteres que contiene."
   ]
  },
  {
   "cell_type": "code",
   "execution_count": 8,
   "metadata": {},
   "outputs": [
    {
     "name": "stdout",
     "output_type": "stream",
     "text": [
      "17\n"
     ]
    }
   ],
   "source": [
    "def contar_caracteres(cadena):\n",
    "    numero_caracteres = len(cadena)\n",
    "    \n",
    "    return numero_caracteres\n",
    "\n",
    "prueba = \"La prueba del dia\"\n",
    "\n",
    "print(contar_caracteres(prueba))\n"
   ]
  },
  {
   "cell_type": "markdown",
   "metadata": {},
   "source": [
    "3. Determinar si una cadena es un palíndromo.\n",
    "Descripción: Crea una función llamada es_palindromo que tome una cadena como parámetro y devuelva True si es un palíndromo, o False si no lo es.\n",
    "¿Qué es un palíndromo?."
   ]
  },
  {
   "cell_type": "code",
   "execution_count": 3,
   "metadata": {},
   "outputs": [],
   "source": [
    "def es_palindromo(palabra1):\n",
    "    \n",
    "    palabra_invertida = list(palabra1)\n",
    "    palabra_invertida.reverse()\n",
    "\n",
    "    palabra_invertida1 = \"\".join(palabra_invertida)\n",
    "\n",
    "    if palabra1 == palabra_invertida1:\n",
    "        return True\n",
    "    else:\n",
    "        return False\n",
    "\n",
    "#¿Que es un palíndromo?: Un palíndromo es una palabra, frase, número o cualquier otra secuencia de caracteres que se lee de igual manera hacia adelante y hacia atrás, ignorando los espacios, signos de puntuación y diferencia entre mayúsculas y minúsculas. Algunos ejemplos son: \"reconocer\", \"radar\", \"oso\", \"anilina\", \"anita lava la tina\"."
   ]
  },
  {
   "cell_type": "code",
   "execution_count": 4,
   "metadata": {},
   "outputs": [
    {
     "name": "stdout",
     "output_type": "stream",
     "text": [
      "ada\n",
      "True\n"
     ]
    }
   ],
   "source": [
    "prueba = \"ada\"\n",
    "print(prueba)\n",
    "print(es_palindromo(prueba))"
   ]
  },
  {
   "cell_type": "markdown",
   "metadata": {},
   "source": [
    "4. Calcular el promedio de una lista de números.\n",
    "Descripción: Crea una función llamada calcular_promedio que tome una lista de números como parámetro y devuelva el promedio de todos sus elementos."
   ]
  },
  {
   "cell_type": "code",
   "execution_count": 49,
   "metadata": {},
   "outputs": [],
   "source": [
    "def calcular_promedio(lista_numeros):\n",
    "    promedio = sum(lista_numeros)/len(lista_numeros)\n",
    "    return promedio"
   ]
  },
  {
   "cell_type": "code",
   "execution_count": 51,
   "metadata": {},
   "outputs": [
    {
     "name": "stdout",
     "output_type": "stream",
     "text": [
      "7.785714285714286\n"
     ]
    }
   ],
   "source": [
    "lista_numeros = [1,2,3,4,5,6,7,8,9,10,11,12,15,16]\n",
    "\n",
    "print(calcular_promedio(lista_numeros))\n"
   ]
  },
  {
   "cell_type": "markdown",
   "metadata": {},
   "source": [
    "5. Calcular el interés compuesto.\n",
    "Descripción: Crea una función llamada calcular_interes_compuesto que tome el capital inicial, la tasa de interés y el número de períodos como parámetros y devuelva el beneficio final después del interés compuesto."
   ]
  },
  {
   "cell_type": "code",
   "execution_count": 68,
   "metadata": {},
   "outputs": [
    {
     "name": "stdout",
     "output_type": "stream",
     "text": [
      "10120.48064\n"
     ]
    }
   ],
   "source": [
    "def calcular_interes_compuesto(capital, interes, periodos):\n",
    "    interes1 = 1 + interes / periodos\n",
    "    monto_total = capital * interes1 ** periodos\n",
    "    return monto_total\n",
    "\n",
    "capital = 10000\n",
    "interes = 0.012\n",
    "periodos = 3 \n",
    "print(calcular_interes_compuesto(capital, interes, periodos))"
   ]
  },
  {
   "cell_type": "markdown",
   "metadata": {},
   "source": [
    "6. Validar si una palabra es un anagrama de otra.\n",
    "Descripción: Crea una función llamada es_anagrama que tome dos palabras como parámetros y devuelva True si una es un anagrama de la otra, o False si no lo es.\n",
    "¿Qué es un anagrama?."
   ]
  },
  {
   "cell_type": "code",
   "execution_count": null,
   "metadata": {},
   "outputs": [],
   "source": [
    "#¿Que es un anagrama?: Es una palabra o frase formada reorganizando las letras de otra palabra o frase utilizando todas las letras originales exactamente una vez. Alguno de los ejemplos son: \"roma\" y \"amor\"."
   ]
  },
  {
   "cell_type": "code",
   "execution_count": 46,
   "metadata": {},
   "outputs": [],
   "source": [
    "def es_anagrama(palabra10, palabra11):\n",
    "\n",
    "    # Ordenar las letras de ambas palabras\n",
    "    palabra10_ordenada = sorted(palabra10)\n",
    "    palabra11_ordenada = sorted(palabra11)\n",
    "\n",
    "    # Comparar si las palabras ordenadas son iguales\n",
    "    if palabra10_ordenada == palabra11_ordenada:\n",
    "        return f\"{palabra10} y {palabra11} son anagramas.\"\n",
    "\n",
    "    else:\n",
    "        return f\"{palabra10} y {palabra11} no son anagramas.\""
   ]
  },
  {
   "cell_type": "code",
   "execution_count": 47,
   "metadata": {},
   "outputs": [
    {
     "name": "stdout",
     "output_type": "stream",
     "text": [
      "amor y carne no son anagramas.\n"
     ]
    }
   ],
   "source": [
    "print(es_anagrama(\"amor\", \"carne\"))"
   ]
  },
  {
   "cell_type": "markdown",
   "metadata": {},
   "source": [
    "7. Validar si una cadena de texto es un isograma.\n",
    "Descripción: Crea una función llamada es_isograma que tome una cadena de texto como parámetro y devuelva True si es un isograma. En caso contrario, devuelve False.\n",
    "¿Qué es un isograma? Una palabra que no contiene letras repetidas."
   ]
  },
  {
   "cell_type": "code",
   "execution_count": null,
   "metadata": {},
   "outputs": [],
   "source": [
    "#¿Que es un isograma?: es una palabra en la que ninguna letra se repite más de una vez. En otras palabras, es una cadena de texto en la que cada letra aparece solo una vez. Los isogramas son útiles en diversos contextos, como en juegos de palabras, criptografía y análisis lingüístico. Por ejemplo, la palabra \"murciélago\" es un isograma porque cada letra (m, u, r, c, i, é, l, a, g, o) aparece solo una vez. "
   ]
  },
  {
   "cell_type": "code",
   "execution_count": 66,
   "metadata": {},
   "outputs": [],
   "source": [
    "def es_isograma(palabra):\n",
    "    \n",
    "    palabra_lista = list(palabra)\n",
    "    \n",
    "    for l in palabra_lista:\n",
    "        if palabra_lista.count(l) >1:\n",
    "            return \"no es un isograma\"\n",
    "        else:\n",
    "            return \"es un isograma\""
   ]
  },
  {
   "cell_type": "code",
   "execution_count": 65,
   "metadata": {},
   "outputs": [
    {
     "name": "stdout",
     "output_type": "stream",
     "text": [
      "es un isograma\n"
     ]
    }
   ],
   "source": [
    "print(es_isograma(\"murcielago\"))"
   ]
  },
  {
   "cell_type": "markdown",
   "metadata": {},
   "source": [
    "8. Concatenar múltiples cadenas de texto\n",
    "Descripción: Crea una función llamada concatenar_cadenas que tome una cantidad variable de cadenas de texto como argumentos y devuelva una única cadena que contenga la concatenación de todas las cadenas ingresadas."
   ]
  },
  {
   "cell_type": "code",
   "execution_count": 70,
   "metadata": {},
   "outputs": [],
   "source": [
    "def concatenar_cadenas(*args):\n",
    "        \n",
    "    cadena_unica = \" \".join(args)\n",
    " \n",
    "    return cadena_unica\n"
   ]
  },
  {
   "cell_type": "code",
   "execution_count": 69,
   "metadata": {},
   "outputs": [
    {
     "name": "stdout",
     "output_type": "stream",
     "text": [
      "hola Esto Es una prueba\n"
     ]
    }
   ],
   "source": [
    "print(concatenar_cadenas(\"hola\",\"Esto\",\"Es una prueba\"))"
   ]
  },
  {
   "cell_type": "markdown",
   "metadata": {},
   "source": [
    "9. Crear un diccionario con información de una persona.\n",
    "Descripción: Crea una función llamada crear_persona que tome como argumentos clave-valor los datos de una persona, como nombre, edad, ciudad, etc., y devuelva un diccionario con toda la información ingresada."
   ]
  },
  {
   "cell_type": "code",
   "execution_count": 73,
   "metadata": {},
   "outputs": [],
   "source": [
    "def crear_persona(**kwargs):\n",
    "    \n",
    "    return kwargs"
   ]
  },
  {
   "cell_type": "code",
   "execution_count": 74,
   "metadata": {},
   "outputs": [
    {
     "name": "stdout",
     "output_type": "stream",
     "text": [
      "{'nombre': 'rebeca', 'edad': 30, 'cuidad': 'Madrid', 'profesion': 'Informática'}\n"
     ]
    }
   ],
   "source": [
    "print(crear_persona(nombre=\"rebeca\", edad=30, cuidad=\"Madrid\",profesion=\"Informática\"))"
   ]
  },
  {
   "cell_type": "markdown",
   "metadata": {},
   "source": [
    " 10. Encontrar el número que falta en una lista ordenada de números consecutivos.\n",
    "Descripción: Crea una función llamada encontrar_numero_faltante que tome una lista de números consecutivos (del 1 al N, sin repetir) con un número faltante y devuelva ese número faltante."
   ]
  },
  {
   "cell_type": "code",
   "execution_count": 77,
   "metadata": {},
   "outputs": [],
   "source": [
    "def encontrar_numero_faltante(lista_num):\n",
    "    \n",
    "    longitud = len(lista_num)\n",
    "    \n",
    "    for m in range(1,longitud+1):\n",
    "        if m not in lista_num:\n",
    "            return f\"El número faltante en la lista es:\", m"
   ]
  },
  {
   "cell_type": "code",
   "execution_count": 79,
   "metadata": {},
   "outputs": [
    {
     "name": "stdout",
     "output_type": "stream",
     "text": [
      "('El número faltante en la lista es:', 10)\n"
     ]
    }
   ],
   "source": [
    "print(encontrar_numero_faltante([1,2,3,4,5,6,7,8,9,11,12,13,14]))"
   ]
  },
  {
   "cell_type": "markdown",
   "metadata": {},
   "source": [
    "11. Encontrar el elemento duplicado en una lista de números.\n",
    "Descripción: Crea una función llamada encontrar_duplicado que tome una lista de números enteros y devuelva el elemento que está duplicado en la lista."
   ]
  },
  {
   "cell_type": "code",
   "execution_count": 95,
   "metadata": {},
   "outputs": [],
   "source": [
    "def num_repetidos(lista_num):\n",
    "\n",
    "    lista_numeros1= []\n",
    "\n",
    "    for num in lista_num:\n",
    "        if num not in lista_numeros1:\n",
    "            lista_numeros1.append(num)\n",
    "        else:\n",
    "            return num"
   ]
  },
  {
   "cell_type": "code",
   "execution_count": 96,
   "metadata": {},
   "outputs": [
    {
     "name": "stdout",
     "output_type": "stream",
     "text": [
      "2\n"
     ]
    }
   ],
   "source": [
    "print(num_repetidos([1,2,3,4,5,6,7,2]))"
   ]
  }
 ],
 "metadata": {
  "kernelspec": {
   "display_name": "base",
   "language": "python",
   "name": "python3"
  },
  "language_info": {
   "codemirror_mode": {
    "name": "ipython",
    "version": 3
   },
   "file_extension": ".py",
   "mimetype": "text/x-python",
   "name": "python",
   "nbconvert_exporter": "python",
   "pygments_lexer": "ipython3",
   "version": "3.9.0"
  }
 },
 "nbformat": 4,
 "nbformat_minor": 2
}
