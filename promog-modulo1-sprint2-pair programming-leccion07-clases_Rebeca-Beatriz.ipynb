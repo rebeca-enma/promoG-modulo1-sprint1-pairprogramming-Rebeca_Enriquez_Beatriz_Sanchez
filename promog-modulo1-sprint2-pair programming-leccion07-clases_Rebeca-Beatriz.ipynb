{
 "cells": [
  {
   "cell_type": "markdown",
   "metadata": {},
   "source": [
    "# PAIR PROGRAMMING - Clases\n"
   ]
  },
  {
   "cell_type": "markdown",
   "metadata": {},
   "source": [
    "1. En este ejercicio de pair programming, vamos a crear una clase para gestionar la información de los empleados de nuestra empresa. Siguiendo las indicaciones del jefe, necesitamos organizar los datos de cada empleado de manera más estructurada.\n",
    "\n",
    "- La clase Empleados permite gestionar información relacionada con los empleados de una empresa, con las siguientes características:\n",
    "1. Debes crear una clase llamada \"Empleados\" que tenga los siguientes atributos: nombre, apellidos, edad, posicion, año , vacaciones(cantidad de días de vacaciones que le quedan al empleado) y herramientas.\n",
    "2. El constructor __init__ debe recibir estos atributos como parámetros y asignarlos a los respectivos atributos de la clase.\n",
    "3. Los atributos representan la información personal y profesional de un empleado, como su nombre completo, edad, posición en la empresa, año de ingreso, días de vacaciones disponibles y una lista de herramientas que el empleado sabe utilizar.\n",
    "\n",
    "- Los métodos que debe recibir esta clase son:\n",
    "    1. Método descripcion: Proporciona una descripción del empleado, incluyendo su nombre, posición en la empresa, y la cantidad de días de vacaciones que le quedan para el año actual. Los pasos para resolver el ejercicio del método descripcion son:\n",
    "Utilizar F-Strings: Utiliza f-strings para construir la descripción del empleado de manera legible y eficiente.\n",
    "Especificar los Atributos a Incluir: Determina cuáles de los atributos del empleado se deben incluir en la descripción. Los atributos necesarios son nombre, posicion, año, y vacaciones.\n",
    "Concatenar los Atributos: Usar f-strings para concatenar los atributos seleccionados y crear una descripción coherente.\n",
    "    2. Método cambiando_posicion: Verifica las herramientas que el empleado tiene en su lista y devuelve un mensaje específico basado en las herramientas. Puede elogiar al empleado si tiene \"Python\" en su lista o sugerirle que deje de usar \"Excel\" y aprenda Python. Los pasos para resolver este ejercicio son:\n",
    "Iterar a través de las Herramientas: La función debe recorrer la lista de herramientas (self.herramientas) del empleado.\n",
    "Evaluar Cada Herramienta: Para cada herramienta en la lista, verifica si es igual a \"Python\" o \"Excel\" (en minúsculas).\n",
    "    3. Método calcular_antiguedad: Calcula la antigüedad del empleado en años y meses desde el año de ingreso hasta la fecha actual.\n",
    "Calcular la Antigüedad en Años y Meses: Utiliza el módulo datetime de Python para obtener el año actual y el mes actual.\n",
    "Generar el Mensaje de Antigüedad: Usa los valores calculados para años y meses de antigüedad para generar un mensaje descriptivo. Por ejemplo, \"Juan lleva 5 años y 3 meses en la empresa\".\n",
    "    4. Método solicitar_aumento_vacaciones: Permite al empleado solicitar un aumento en la cantidad de días de vacaciones. Si la solicitud es válida (es decir, se solicitan días positivos), actualiza los días de vacaciones del empleado y devuelve un mensaje de confirmación. Recibirá un parámetro dias_solicitados, que corresponderá con el número de días de vacaciones que quiere solicitar.\n",
    "Validar los Días Solicitados: Utiliza una estructura de control para verificar si la cantidad de días solicitados (dias_solicitados) es mayor que cero. Esto garantiza que solo se procesen solicitudes de aumento válidas.\n",
    "Actualizar los Días de Vacaciones: Si la solicitud es válida, aumenta la cantidad de días de vacaciones del empleado (self.vacaciones) sumando la cantidad de días solicitados.\n",
    "Generar un Mensaje de Confirmación: Crea un mensaje informativo que confirme la aprobación de la solicitud y muestre la cantidad actualizada de días de vacaciones del empleado.\n",
    "Manejar Solicitudes No Válidas: Si la solicitud no es válida (es decir, dias_solicitados es menor o igual a cero), generar un mensaje de error que indique que la solicitud debe ser un número positivo.\n",
    "    5. Método registrar_herramienta: Permite al empleado registrar una nueva herramienta en su lista de habilidades. La herramienta se registra si no está registrada previamente en la lista de herramientas del empleado. Recibirá un parámetro que será la nueva herramienta.\n",
    "Validar la Nueva Herramienta: Utiliza una estructura de control para verificar si la nueva herramienta no está en la lista de herramientas existentes.\n",
    "Agregar la Nueva Herramienta: Si la nueva herramienta no está en la lista existente, agregarla a la lista.\n",
    "Generar un Mensaje de Confirmación: Crea un mensaje informativo que confirme el registro exitoso de la nueva herramienta y muestre el nombre de la herramienta registrada.\n",
    "Manejar Herramientas Duplicadas: Si la nueva herramienta ya existe en la lista, genera un mensaje que indique que la herramienta ya ha sido registrada previamente.\n",
    "    6. Método cambiar_posicion: Permite al empleado cambiar su posición y salario en la empresa. Actualiza la posición y el salario y devuelve un mensaje de felicitación. Recibirá dos parámetros, la nueva posición y el nuevo salario.\n",
    "Actualizar la Posición y el Salario: Utiliza los parámetros nueva_posicion y nuevo_salario para actualizar la posición y el salario del empleado.\n",
    "Generar un Mensaje de Confirmación: Crea un mensaje informativo que confirme el cambio de posición y salario del empleado y muestre el nombre del empleado, la nueva posición y el nuevo salario.\n",
    "    7. Método tomar_vacaciones: Permite al empleado tomar días de vacaciones, solicitando la cantidad deseada y actualizando los días de vacaciones restantes. Verifica que se solicite al menos un día de vacaciones y que el empleado tenga suficientes días disponibles. No recibe ningún parámetro adicional.\n",
    "Solicitar la Cantidad de Días de Vacaciones: Usar la función input para solicitar al usuario la cantidad de días de vacaciones que desea tomar.\n",
    "Validar la Cantidad de Días: Comprueba que la cantidad de días solicitados sea mayor que cero. Si el usuario ingresa un valor no válido (cero o negativo), muestra un mensaje de error y solicita nuevamente la cantidad de días hasta que sea válida.\n",
    "Verificar Disponibilidad de Días de Vacaciones: Comprueba si la cantidad de días solicitados es menor o igual a la cantidad de días de vacaciones disponibles para el empleado.\n",
    "Actualizar Días de Vacaciones: Si hay suficientes días de vacaciones disponibles, modifica el código para que se modifiquen los días de vacaciones que le quedan. Si no hay suficientes días disponibles, mostrar un mensaje de error.\n",
    "Generar un Mensaje de Confirmación o Error: Dependiendo de si la solicitud se procesó con éxito o no, genera un mensaje que informe al empleado sobre el resultado de su solicitud.\n",
    "    8. Método solicitar_aumento_salario: Permite al empleado solicitar un aumento de salario en porcentaje y calcula el nuevo salario. Verifica que el aumento sea un valor positivo o igual a cero. Este método no recibe ningún parámetro.\n",
    "Solicitar el Porcentaje de Aumento de Salario: Utiliza la función input para solicitar al usuario el porcentaje de aumento de salario que desea. Asegurate de que el valor ingresado sea un número decimal.\n",
    "Validar el Porcentaje de Aumento: Utiliza un bucle while para garantizar que el porcentaje de aumento sea mayor o igual a cero. Si el usuario ingresa un valor no válido (negativo), muestra un mensaje de error y solicita nuevamente el porcentaje hasta que sea válido.\n",
    "Calcular el Nuevo Salario: Calcula el nuevo salario.\n",
    "Generar un Mensaje de Confirmación: Crea un mensaje que informe al empleado sobre el resultado de su solicitud. Incluye el nuevo salario calculado en el mensaje.\n",
    "Manejar Errores de Entrada: Utiliza un bloque try...except para manejar posibles errores de entrada, como cuando el usuario ingresa un valor que no se puede convertir a un número decimal.\n",
    "    9. Método realizar_evaluacion: Permite al empleado recibir una calificación de desempeño, con opciones como \"Excelente\", \"Bueno\", \"Regular\" o \"Malo\". Verifica que la calificación ingresada sea válida. Este método no recibe ningún parámetro.\n",
    "Solicitar la Calificación del Desempeño: Utiliza la función input para solicitar al usuario que califique su propio desempeño. Asegurate de que el valor ingresado sea una de las opciones válidas: \"excelente\", \"bueno\", \"regular\" o \"malo\".\n",
    "Validar la Calificación: Utiliza un bucle while para garantizar que la calificación ingresada sea una de las opciones válidas. Si el usuario ingresa una calificación no válida, muestra un mensaje de error y solicita nuevamente la calificación hasta que sea válida.\n",
    "Generar un Mensaje de Retroalimentación: Crear un mensaje que proporcione retroalimentación al empleado basada en la calificación ingresada.\n",
    "Retornar el Mensaje Generado: La función debe incluir una instrucción return que devuelva el mensaje generado.\n",
    "\n",
    "2. En este ejercicio, se te pide crear una herencia de la clase creada en el ejercicio anterior. Esta clase hija se llama \"Gerente\" que hereda de la clase creada en el ejercicio anterior. Las instrucciones para crear esta clase son:\n",
    "- Crea la clase derivada \"Gerente\" que hereda de la clase \"Empleados\". Esta clase debe tener los siguientes atributos en su constructor además de los heredados de \"Empleados\":\n",
    "departamento (str): El departamento al que está asignado el gerente.\n",
    "empleados_a_cargo (list): Una lista que contiene los nombres de los empleados que están a cargo del gerente.\n",
    "- Implementa los siguientes métodos en la clase \"Gerente\":\n",
    "asignar_tareas(tarea, empleado): Este método debe recibir el nombre de una tarea y el nombre de un empleado y debe devolver una cadena que indique que el gerente ha asignado la tarea a ese empleado.\n",
    "revisar_desempeno_empleado(empleado): Este método debe recibir el nombre de un empleado y debe devolver una cadena que indique que el gerente está revisando el desempeño de ese empleado.\n",
    "gestionar_empleados(accion, empleado): Este método permite al gerente realizar acciones de contratación o despido de empleados a cargo. Debe recibir una acción (\"contratar\" o \"despedir\") y el nombre de un empleado. Si la acción es \"contratar\", agrega al empleado a la lista de empleados a cargo y devuelve un mensaje indicando que el empleado ha sido contratado por el gerente. Si la acción es \"despedir\" y el empleado está en la lista de empleados a cargo, lo elimina y devuelve un mensaje de despido. Si la acción no es válida, devuelve un mensaje indicando que la acción no es válida."
   ]
  },
  {
   "cell_type": "code",
   "execution_count": 120,
   "metadata": {},
   "outputs": [],
   "source": [
    "from datetime import datetime"
   ]
  },
  {
   "cell_type": "code",
   "execution_count": 121,
   "metadata": {},
   "outputs": [],
   "source": [
    "\n",
    "class Empleados:\n",
    "\n",
    "    def __init__(self, nombre, apellidos, edad, posicion, año, vacaciones, herramientas):\n",
    "\n",
    "        self.nombre = nombre\n",
    "        self.apellidos = apellidos\n",
    "        self.edad = edad\n",
    "        self.posicion = posicion\n",
    "        self.año = año\n",
    "        self.vacaciones = vacaciones\n",
    "        self.herramientas = herramientas\n",
    "\n",
    "    \n",
    "    def descripcion(self):\n",
    "\n",
    "        return f\"El empleado con nombre {self.nombre}, que ocupa la posicion {self.posicion}, desde el año {self.año}, tiene pendientes de disfrutar {self.vacaciones} dias de vacaciones\"\n",
    "\n",
    "\n",
    "    def cambiando_posicion(self):\n",
    "\n",
    "        for h in self.herramientas:\n",
    "            if h.lower() == \"python\":\n",
    "                return \"Enhorabuena estas actualizado\"\n",
    "            \n",
    "            elif h.lower() == \"excel\":\n",
    "                return \"Deberias aprender Python\"\n",
    "\n",
    "\n",
    "    def calcular_antiguedad(self,mes):\n",
    "            año_actual = datetime.now().year\n",
    "            mes_actual = datetime.now().month\n",
    "        \n",
    "            antiguedad_año = año_actual-self.año\n",
    "            antiguedad_mes = mes_actual-mes\n",
    "            \n",
    "            if antiguedad_mes < 0:\n",
    "                antiguedad_año -= 1\n",
    "                antiguedad_mes += 12\n",
    "\n",
    "            return f\"El trabajador entro en el año {self.año} y actualmente tiene una antiguedad de {antiguedad_año} años y {antiguedad_mes} meses\"\n",
    "\n",
    "    def solicitar_aumento_vacaciones(self,dias_solicitados):\n",
    "    \n",
    "            if self.vacaciones > 0:\n",
    "                self.vacaciones += dias_solicitados\n",
    "                return f\"La solicitud ha sido aprobada, actualmente dispones de {self.vacaciones} dias de vacaciones\"\n",
    "\n",
    "            else:\n",
    "                return \"La solicitud no ha sido aprobada, porque lo dias de los que disponias estaban en negativo\"\n",
    "    \n",
    "    def registrar_herramienta(self,nueva_herramienta):\n",
    "\n",
    "        if nueva_herramienta.lower() not in self.herramientas:\n",
    "            self.herramientas.append(nueva_herramienta.lower())\n",
    "            print(f\"{nueva_herramienta} ha sido agregada a tu lista de habilidades\")\n",
    "\n",
    "        else:\n",
    "            print(\"La herramienta ya estaba registrada en tus habilidades\")\n",
    "                \n",
    "                \n",
    "    def cambiar_posicion(self,nueva_posicion,nuevo_salario):\n",
    "        \n",
    "        self.posicion = nueva_posicion\n",
    "        self.salario = nuevo_salario\n",
    "        \n",
    "        return f\"El salario ha sido actualizado a {self.salario}, debido a la posicion de {nueva_posicion}\"\n",
    "    \n",
    "    def tomar_vacaciones(self):\n",
    "\n",
    "        vacaciones_solicitadas = False\n",
    "\n",
    "        solicitar= int(input(\"¿Cuantos dias quieres solicitar?\"))\n",
    "\n",
    "        while vacaciones_solicitadas == False:\n",
    "\n",
    "            if solicitar <=0:\n",
    "    \n",
    "                print(f\"El numero de dias introduccidos es incorrecto {solicitar}\")\n",
    "                solicitar = int(input(\"¿Cuantos dias quieres solicitar?\"))\n",
    "        \n",
    "            elif self.vacaciones >= solicitar:\n",
    "                self.vacaciones -= solicitar\n",
    "                vacaciones_solicitadas= True\n",
    "                print (\"Vacaciones autorizadas\")\n",
    "                \n",
    "            else:\n",
    "                print(\"Error, no tienes suficienes días disponibles\")\n",
    "                \n",
    "                solicitar = int(input(\"¿Cuantos dias quieres pedir?:\"))\n",
    "\n",
    "            \n",
    "    \n",
    "    def solicitar_aumento_salario(self):\n",
    "\n",
    "        aumento_valido = False\n",
    "\n",
    "        while aumento_valido==False:\n",
    "            try:\n",
    "                aumento = float(input(\"Ingrese el porcentaje de aumento:\"))\n",
    "            \n",
    "            except:\n",
    "                print(\"Valor introduccido incorrecto, indique nuevamente el importe\")\n",
    "\n",
    "            else:\n",
    "\n",
    "                if aumento >= 0:\n",
    "                    porcentaje = aumento /100\n",
    "                    nuevo_salario = (self.salario * porcentaje) + self.salario\n",
    "                    self.salario = nuevo_salario\n",
    "                    aumento_valido = True\n",
    "                    return f\"El salario ha sido actualizado, actualmente cobraras {self.salario}\"\n",
    "                \n",
    "\n",
    "    def realizar_evaluacion(self):\n",
    "        \n",
    "        calificacion= \"\"\n",
    "        calificaciones_optimas = [\"excelente\", \"bueno\", \"regular\", \"malo\"]\n",
    "        avanza = False\n",
    "\n",
    "        while avanza == False:  \n",
    "            if calificacion in calificaciones_optimas:\n",
    "                avanza= True\n",
    "                           \n",
    "            else:\n",
    "                calificacion = input(\"Califique su propio desempeño siendo calificado como (excelente, bueno, regular o malo):\").lower()\n",
    "        \n",
    "        if calificacion == \"excelente\":\n",
    "            return \"Gracias por tu trabajo\"\n",
    "                \n",
    "        elif calificacion == \"bueno\":\n",
    "            return \"Buen trabajo, sigue así de bien\"\n",
    "                \n",
    "        elif calificacion == \"regular\":\n",
    "            return \"Intenta mejorar las habilidades flojas\"\n",
    "        else: \n",
    "            return \"Necesitas mejorar\"\n",
    "        \n",
    "    "
   ]
  },
  {
   "cell_type": "code",
   "execution_count": 130,
   "metadata": {},
   "outputs": [],
   "source": [
    "class Gerente(Empleados):\n",
    "    \n",
    "    def __init__(self, nombre, apellidos, edad, posicion, año, vacaciones, herramientas, departamento,empleados_a_cargo):\n",
    "        super().__init__(nombre, apellidos, edad, posicion, año, vacaciones, herramientas)\n",
    "        self.departamento = departamento\n",
    "        self.empleados_a_cargo = empleados_a_cargo\n",
    "    \n",
    "    def asignar_tareas(self, tarea, empleados_a_cargo):\n",
    "        return f\"El gerente ha asignado la tarea {tarea} a {empleados_a_cargo}\"\n",
    "    \n",
    "    def revisar_desempeño_empleado(self,empleados_a_cargo):\n",
    "    \n",
    "        return f\"El gerente esta revisando el desempeño del {empleados_a_cargo}\"\n",
    "    \n",
    "    def gestionar_empleados(self, accion, empleado):\n",
    "      \n",
    "            if accion == \"contratar\":\n",
    "                self.empleados.append(empleado)\n",
    "                return f\"el {empleado} ha sido contratado\"\n",
    "            \n",
    "            elif accion == \"despedir\": \n",
    "                if empleado in self.empleados_a_cargo:\n",
    "                    self.empleados_a_cargo.pop(empleado)\n",
    "                    return f\"el {empleado} ha sido despedido\"\n",
    "                \n",
    "            else:\n",
    "                return \"Error: la acción no es válida\""
   ]
  },
  {
   "cell_type": "code",
   "execution_count": 123,
   "metadata": {},
   "outputs": [],
   "source": [
    "empleado1=Empleados(\"rebeca\",\"enriquez\",30,\"auxiliar\",2023,16,[\"excel\"])"
   ]
  },
  {
   "cell_type": "code",
   "execution_count": 124,
   "metadata": {},
   "outputs": [
    {
     "data": {
      "text/plain": [
       "'El empleado con nombre rebeca, que ocupa la posicion auxiliar, desde el año 2023, tiene pendientes de disfrutar 16 dias de vacaciones'"
      ]
     },
     "execution_count": 124,
     "metadata": {},
     "output_type": "execute_result"
    }
   ],
   "source": [
    "#Metodo1\n",
    "empleado1.descripcion()"
   ]
  },
  {
   "cell_type": "code",
   "execution_count": 125,
   "metadata": {},
   "outputs": [
    {
     "name": "stdout",
     "output_type": "stream",
     "text": [
      "Deberias aprender Python\n"
     ]
    }
   ],
   "source": [
    "#Metodo2\n",
    "print(empleado1.cambiando_posicion())"
   ]
  },
  {
   "cell_type": "code",
   "execution_count": 126,
   "metadata": {},
   "outputs": [
    {
     "data": {
      "text/plain": [
       "'El trabajador entro en el año 2023 y actualmente tiene una antiguedad de 0 años y 2 meses'"
      ]
     },
     "execution_count": 126,
     "metadata": {},
     "output_type": "execute_result"
    }
   ],
   "source": [
    "#Metodo3\n",
    "empleado1.calcular_antiguedad(12)"
   ]
  },
  {
   "cell_type": "code",
   "execution_count": 127,
   "metadata": {},
   "outputs": [
    {
     "data": {
      "text/plain": [
       "'La solicitud ha sido aprobada, actualmente dispones de 30 dias de vacaciones'"
      ]
     },
     "execution_count": 127,
     "metadata": {},
     "output_type": "execute_result"
    }
   ],
   "source": [
    "#Metodo4\n",
    "empleado1.solicitar_aumento_vacaciones(14)"
   ]
  },
  {
   "cell_type": "code",
   "execution_count": 128,
   "metadata": {},
   "outputs": [
    {
     "name": "stdout",
     "output_type": "stream",
     "text": [
      "python ha sido agregada a tu lista de habilidades\n",
      "['excel', 'python']\n"
     ]
    }
   ],
   "source": [
    "#Metodo5\n",
    "empleado1.registrar_herramienta(\"python\")\n",
    "print(empleado1.herramientas)"
   ]
  },
  {
   "cell_type": "code",
   "execution_count": 117,
   "metadata": {},
   "outputs": [
    {
     "data": {
      "text/plain": [
       "'El salario ha sido actualizado a 1500, debido a la posicion de oficial1º'"
      ]
     },
     "execution_count": 117,
     "metadata": {},
     "output_type": "execute_result"
    }
   ],
   "source": [
    "#Metodo6\n",
    "empleado1.cambiar_posicion(\"oficial1º\",1500)"
   ]
  },
  {
   "cell_type": "code",
   "execution_count": 90,
   "metadata": {},
   "outputs": [
    {
     "name": "stdout",
     "output_type": "stream",
     "text": [
      "30\n",
      "El numero de dias introduccidos es incorrecto -4\n",
      "El numero de dias introduccidos es incorrecto 0\n",
      "Vacaciones autorizadas\n"
     ]
    }
   ],
   "source": [
    "#Metodo7\n",
    "print(empleado1.vacaciones)\n",
    "empleado1.tomar_vacaciones()\n",
    "\n"
   ]
  },
  {
   "cell_type": "code",
   "execution_count": 91,
   "metadata": {},
   "outputs": [
    {
     "name": "stdout",
     "output_type": "stream",
     "text": [
      "Valor introduccido incorrecto, indique nuevamente el importe\n"
     ]
    },
    {
     "data": {
      "text/plain": [
       "'El salario ha sido actualizado, actualmente cobraras 1725.0'"
      ]
     },
     "execution_count": 91,
     "metadata": {},
     "output_type": "execute_result"
    }
   ],
   "source": [
    "#Metodo8\n",
    "empleado1.solicitar_aumento_salario()"
   ]
  },
  {
   "cell_type": "code",
   "execution_count": 129,
   "metadata": {},
   "outputs": [
    {
     "data": {
      "text/plain": [
       "'Necesitas mejorar'"
      ]
     },
     "execution_count": 129,
     "metadata": {},
     "output_type": "execute_result"
    }
   ],
   "source": [
    "#Metodo9\n",
    "empleado1.realizar_evaluacion()\n"
   ]
  }
 ],
 "metadata": {
  "kernelspec": {
   "display_name": "Python 3",
   "language": "python",
   "name": "python3"
  },
  "language_info": {
   "codemirror_mode": {
    "name": "ipython",
    "version": 3
   },
   "file_extension": ".py",
   "mimetype": "text/x-python",
   "name": "python",
   "nbconvert_exporter": "python",
   "pygments_lexer": "ipython3",
   "version": "3.9.7"
  }
 },
 "nbformat": 4,
 "nbformat_minor": 2
}
