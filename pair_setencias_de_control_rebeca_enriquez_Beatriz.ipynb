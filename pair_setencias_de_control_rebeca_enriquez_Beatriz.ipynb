{
 "cells": [
  {
   "cell_type": "markdown",
   "metadata": {},
   "source": [
    "# Sentencias de control\n",
    "\n",
    "### Bucle FOR"
   ]
  },
  {
   "cell_type": "markdown",
   "metadata": {},
   "source": [
    "1 Imprimir los números del 1 al 5 utilizando un bucle for\n",
    "Descripción: Utiliza un bucle for para imprimir los números del 1 al 5 (incluido) en orden ascendente.\n"
   ]
  },
  {
   "cell_type": "code",
   "execution_count": 1,
   "metadata": {},
   "outputs": [
    {
     "name": "stdout",
     "output_type": "stream",
     "text": [
      "1\n",
      "2\n",
      "3\n",
      "4\n",
      "5\n"
     ]
    }
   ],
   "source": [
    "num= [1, 2 , 3 , 4, 5]\n",
    "\n",
    "for n in num:\n",
    "    print(n)\n"
   ]
  },
  {
   "cell_type": "markdown",
   "metadata": {},
   "source": [
    "2 Calcular la suma de los primeros 10 números naturales utilizando un bucle for\n",
    "Descripción: Utiliza un bucle for para calcular la suma de los primeros 10 números naturales (1 + 2 + 3 + ... + 10).\n"
   ]
  },
  {
   "cell_type": "code",
   "execution_count": 3,
   "metadata": {},
   "outputs": [
    {
     "name": "stdout",
     "output_type": "stream",
     "text": [
      "0\n",
      "1\n",
      "3\n",
      "6\n",
      "10\n",
      "15\n",
      "21\n",
      "28\n",
      "36\n",
      "45\n",
      "55\n"
     ]
    }
   ],
   "source": [
    "num1 = 0\n",
    "\n",
    "for n in range(11):\n",
    "    num1 = num1 + n\n",
    "    print(num1)"
   ]
  },
  {
   "cell_type": "markdown",
   "metadata": {},
   "source": [
    "3 Calcular el producto de los elementos de una lista\n",
    "Descripción: Dada una lista de números, utiliza un bucle for para calcular el producto de todos los elementos.\n"
   ]
  },
  {
   "cell_type": "code",
   "execution_count": 6,
   "metadata": {},
   "outputs": [
    {
     "name": "stdout",
     "output_type": "stream",
     "text": [
      "5\n",
      "75\n",
      "1500\n",
      "49500\n",
      "3217500\n",
      "286357500\n",
      "2863575000\n"
     ]
    }
   ],
   "source": [
    "lista_num = [5, 15, 20, 33, 65, 89, 10]\n",
    "num2 = 1\n",
    "\n",
    "for n in lista_num:\n",
    "    num2 = num2 * n\n",
    "    print(num2)\n"
   ]
  },
  {
   "cell_type": "code",
   "execution_count": 8,
   "metadata": {},
   "outputs": [
    {
     "ename": "TypeError",
     "evalue": "'builtin_function_or_method' object cannot be interpreted as an integer",
     "output_type": "error",
     "traceback": [
      "\u001b[1;31m---------------------------------------------------------------------------\u001b[0m",
      "\u001b[1;31mTypeError\u001b[0m                                 Traceback (most recent call last)",
      "Cell \u001b[1;32mIn[8], line 2\u001b[0m\n\u001b[0;32m      1\u001b[0m lista_num \u001b[38;5;241m=\u001b[39m [\u001b[38;5;241m5\u001b[39m, \u001b[38;5;241m15\u001b[39m, \u001b[38;5;241m20\u001b[39m, \u001b[38;5;241m33\u001b[39m, \u001b[38;5;241m65\u001b[39m, \u001b[38;5;241m89\u001b[39m, \u001b[38;5;241m10\u001b[39m]\n\u001b[1;32m----> 2\u001b[0m indice \u001b[38;5;241m=\u001b[39m lista_num[\u001b[38;5;28;43mrange\u001b[39;49m\u001b[43m(\u001b[49m\u001b[38;5;28;43mlen\u001b[39;49m\u001b[43m)\u001b[49m]\n\u001b[0;32m      3\u001b[0m num2 \u001b[38;5;241m=\u001b[39m \u001b[38;5;241m0\u001b[39m\n\u001b[0;32m      5\u001b[0m \u001b[38;5;28;01mfor\u001b[39;00m n \u001b[38;5;129;01min\u001b[39;00m lista_num[indice]:\n",
      "\u001b[1;31mTypeError\u001b[0m: 'builtin_function_or_method' object cannot be interpreted as an integer"
     ]
    }
   ],
   "source": [
    "lista_num = [5, 15, 20, 33, 65, 89, 10]\n",
    "indice = lista_num[range(len)]\n",
    "num2 = 0\n",
    "\n",
    "for n in lista_num[indice]:\n",
    "    num2 = num2 * n\n",
    "    print(num2)"
   ]
  },
  {
   "cell_type": "markdown",
   "metadata": {},
   "source": [
    "4 Imprimir los caracteres de una cadena de texto\n",
    "Descripción: Dada una cadena de texto, utiliza un bucle for para imprimir cada carácter en una línea separada.\n"
   ]
  },
  {
   "cell_type": "code",
   "execution_count": 10,
   "metadata": {},
   "outputs": [
    {
     "name": "stdout",
     "output_type": "stream",
     "text": [
      "E\n",
      "s\n",
      "t\n",
      "a\n",
      "m\n",
      "o\n",
      "s\n",
      " \n",
      "h\n",
      "a\n",
      "c\n",
      "i\n",
      "e\n",
      "n\n",
      "d\n",
      "o\n",
      " \n",
      "p\n",
      "r\n",
      "u\n",
      "e\n",
      "b\n",
      "a\n",
      "s\n"
     ]
    }
   ],
   "source": [
    "cadena = \"Estamos haciendo pruebas\"\n",
    "\n",
    "for el in cadena:\n",
    "    print(el)"
   ]
  },
  {
   "cell_type": "markdown",
   "metadata": {},
   "source": [
    "5 Imprimir los números pares del 1 al 100 utilizando un bucle for\n",
    "Descripción: Utiliza un bucle for para imprimir los números pares del 1 al 100 en orden ascendente.\n"
   ]
  },
  {
   "cell_type": "code",
   "execution_count": 11,
   "metadata": {},
   "outputs": [
    {
     "name": "stdout",
     "output_type": "stream",
     "text": [
      "0\n",
      "2\n",
      "4\n",
      "6\n",
      "8\n",
      "10\n",
      "12\n",
      "14\n",
      "16\n",
      "18\n",
      "20\n",
      "22\n",
      "24\n",
      "26\n",
      "28\n",
      "30\n",
      "32\n",
      "34\n",
      "36\n",
      "38\n",
      "40\n",
      "42\n",
      "44\n",
      "46\n",
      "48\n",
      "50\n",
      "52\n",
      "54\n",
      "56\n",
      "58\n",
      "60\n",
      "62\n",
      "64\n",
      "66\n",
      "68\n",
      "70\n",
      "72\n",
      "74\n",
      "76\n",
      "78\n",
      "80\n",
      "82\n",
      "84\n",
      "86\n",
      "88\n",
      "90\n",
      "92\n",
      "94\n",
      "96\n",
      "98\n",
      "100\n"
     ]
    }
   ],
   "source": [
    "for e in range(0,101,2):\n",
    "    print(e)"
   ]
  },
  {
   "cell_type": "markdown",
   "metadata": {},
   "source": [
    "6 Imprimir los números primos del 1 al 50 utilizando un bucle for\n",
    "Descripción: Utiliza un bucle for para imprimir los números primos del 1 al 50 en orden ascendente.\n",
    "NOTA: Según la Wikipedia, un número primo es un número natural mayor que 1 que no tiene divisores positivos más que 1 y él mismo.\n"
   ]
  },
  {
   "cell_type": "code",
   "execution_count": 18,
   "metadata": {},
   "outputs": [
    {
     "name": "stdout",
     "output_type": "stream",
     "text": [
      "[]\n"
     ]
    }
   ],
   "source": [
    "lista1 = []\n",
    "\n",
    "for e in range(1,51):\n",
    "    if e >=1:\n",
    "        if e%e == 1 or e%e == e:\n",
    "            lista1.append(e)\n",
    "print(lista1)"
   ]
  },
  {
   "cell_type": "markdown",
   "metadata": {},
   "source": [
    "7 Calcular el factorial de un número utilizando un bucle for\n",
    "Descripción: Dado un número entero positivo, calcula su factorial utilizando un bucle for.\n"
   ]
  },
  {
   "cell_type": "code",
   "execution_count": 22,
   "metadata": {},
   "outputs": [
    {
     "name": "stdout",
     "output_type": "stream",
     "text": [
      "El numero 1 en factorial es 1\n",
      "El numero 2 en factorial es 2\n",
      "El numero 3 en factorial es 6\n",
      "El numero 4 en factorial es 24\n",
      "El numero 5 en factorial es 120\n",
      "El numero 6 en factorial es 720\n",
      "El numero 7 en factorial es 5040\n",
      "El numero 8 en factorial es 40320\n"
     ]
    }
   ],
   "source": [
    "num3 = 9\n",
    "factorial = 1\n",
    "\n",
    "for i in range(1,num3):\n",
    "\n",
    "    factorial= factorial * i\n",
    "\n",
    "    print(f\"El numero {i} en factorial es {factorial}\")"
   ]
  },
  {
   "cell_type": "markdown",
   "metadata": {},
   "source": [
    "8 Juego de adivinar palabras utilizando un bucle for\n",
    "Descripción: Crea un juego en el que el jugador debe adivinar una palabra secreta. El jugador tiene un número limitado de intentos y se le proporcionan pistas después de cada intento. Utiliza un bucle for para controlar los intentos del jugador."
   ]
  },
  {
   "cell_type": "code",
   "execution_count": 33,
   "metadata": {},
   "outputs": [
    {
     "name": "stdout",
     "output_type": "stream",
     "text": [
      "Felicidades, has avidinado la letra ['l', 'l', 'a']\n",
      "Lo siento, la letra ['h', 'o'] no se encuentra\n"
     ]
    }
   ],
   "source": [
    "palabra_secreta = \"adalab\"\n",
    "intentos = 3\n",
    "palabra_adivinar = input(\"Cual crees que es la palabra?\")\n",
    "estado= []\n",
    "falladas = []\n",
    "\n",
    "while intentos <=3:\n",
    "\n",
    "    for e in palabra_adivinar:\n",
    "        if e in palabra_secreta:\n",
    "         estado.append(e)      \n",
    "    \n",
    "        else:\n",
    "            falladas.append(e)\n",
    "            intentos +=1\n",
    "\n",
    "    print(f\"Felicidades, has avidinado la letra {estado}\")\n",
    "    print(f\"Lo siento, la letra {falladas} no se encuentra\")  "
   ]
  },
  {
   "cell_type": "markdown",
   "metadata": {},
   "source": [
    "# list comprehension"
   ]
  },
  {
   "cell_type": "markdown",
   "metadata": {},
   "source": [
    "1 Generar una lista de los números pares del 1 al 20.\n",
    "Descripción: Utiliza list comprehension para generar una lista que contenga todos los números pares en el rango del 1 al 20.\n"
   ]
  },
  {
   "cell_type": "code",
   "execution_count": 36,
   "metadata": {},
   "outputs": [
    {
     "name": "stdout",
     "output_type": "stream",
     "text": [
      "[2, 4, 6, 8, 10, 12, 14, 16, 18, 20]\n"
     ]
    }
   ],
   "source": [
    "pares = [e for e in range(2,21,2)]\n",
    "print(pares)"
   ]
  },
  {
   "cell_type": "markdown",
   "metadata": {},
   "source": [
    "2 Obtener una lista de las vocales en una cadena de texto.\n",
    "Descripción: Utiliza list comprehension para crear una lista que contenga todas las vocales presentes en una cadena de texto (sin repetición).\n"
   ]
  },
  {
   "cell_type": "code",
   "execution_count": 37,
   "metadata": {},
   "outputs": [
    {
     "name": "stdout",
     "output_type": "stream",
     "text": [
      "['o', 'a', 'u', 'e', 'o', 'i', 'a']\n"
     ]
    }
   ],
   "source": [
    "texto = \"Hola buenos dias\"\n",
    "vocales = [\"a\",\"e\",\"i\",\"o\",\"u\"]\n",
    "\n",
    "vocal_en_frase = [x for x in texto if x in vocales]\n",
    "print(vocal_en_frase)"
   ]
  },
  {
   "cell_type": "markdown",
   "metadata": {},
   "source": [
    "3 Filtrar los números positivos de una lista y calcular su cuadrado.\n",
    "Descripción: Utiliza list comprehension para filtrar los números positivos de una lista y calcular el cuadrado de cada uno."
   ]
  },
  {
   "cell_type": "code",
   "execution_count": 38,
   "metadata": {},
   "outputs": [
    {
     "name": "stdout",
     "output_type": "stream",
     "text": [
      "[4, 25, 81, 361, 6400]\n"
     ]
    }
   ],
   "source": [
    "lista_num_p = [2, 5 , 9, -10, 19, -26, -30, 80, -25]\n",
    "\n",
    "positivos_cuadrado = [e**2 for e in lista_num_p if e>=0]\n",
    "print(positivos_cuadrado)"
   ]
  },
  {
   "cell_type": "markdown",
   "metadata": {},
   "source": [
    "# try ...except"
   ]
  },
  {
   "cell_type": "markdown",
   "metadata": {},
   "source": [
    "1 Realizar una búsqueda en una lista y capturar una excepción en caso de valor no encontrado.\n",
    "Descripción: Solicita al usuario una lista de nombres y un nombre para buscar en la lista. Intenta encontrar el nombre en la lista y utiliza las sentencias try y except para capturar la excepción en caso de que el nombre no sea encontrado"
   ]
  },
  {
   "cell_type": "code",
   "execution_count": 43,
   "metadata": {},
   "outputs": [
    {
     "name": "stdout",
     "output_type": "stream",
     "text": [
      "valor no encontrado\n"
     ]
    }
   ],
   "source": [
    "nombres = input(\"Introducce una lista de nombres\")\n",
    "nombre = input(\"Introducce un nombre\")\n",
    "\n",
    "lista_nombres = list(nombres.split())\n",
    "\n",
    "\n",
    "try:\n",
    "    nombre in lista_nombres\n",
    "    print(f(\"{nombre} esta en la lista\"))\n",
    "\n",
    "except:\n",
    "    print(\"valor no encontrado\")\n"
   ]
  },
  {
   "cell_type": "code",
   "execution_count": 4,
   "metadata": {},
   "outputs": [
    {
     "name": "stdout",
     "output_type": "stream",
     "text": [
      "valor no encontrado\n",
      "['susana', 'alba', 'carla', 'ana']\n",
      "ana\n"
     ]
    }
   ],
   "source": [
    "nombres = input(\"Introducce una lista de nombres\")\n",
    "nombre = input(\"Introducce un nombre\")\n",
    "\n",
    "lista_nombres = list(nombres.split())\n",
    "\n",
    "\n",
    "\n",
    "for e in lista_nombres:\n",
    "    try:\n",
    "        if e in nombre:\n",
    "            print(f(\"{nombre} esta en la lista\"))\n",
    "\n",
    "    except:\n",
    "        print(\"valor no encontrado\")\n",
    "\n",
    "\n",
    "print(lista_nombres)\n",
    "print(nombre)"
   ]
  },
  {
   "cell_type": "code",
   "execution_count": null,
   "metadata": {},
   "outputs": [],
   "source": []
  }
 ],
 "metadata": {
  "kernelspec": {
   "display_name": "Python 3",
   "language": "python",
   "name": "python3"
  },
  "language_info": {
   "codemirror_mode": {
    "name": "ipython",
    "version": 3
   },
   "file_extension": ".py",
   "mimetype": "text/x-python",
   "name": "python",
   "nbconvert_exporter": "python",
   "pygments_lexer": "ipython3",
   "version": "3.12.1"
  }
 },
 "nbformat": 4,
 "nbformat_minor": 2
}
